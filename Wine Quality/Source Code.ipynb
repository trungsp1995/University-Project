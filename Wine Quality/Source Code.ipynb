{
 "cells": [
  {
   "cell_type": "code",
   "execution_count": 1,
   "metadata": {},
   "outputs": [],
   "source": [
    "import sys\n",
    "assert sys.version_info >= (3, 5)"
   ]
  },
  {
   "cell_type": "code",
   "execution_count": 2,
   "metadata": {},
   "outputs": [],
   "source": [
    "import sklearn\n",
    "assert sklearn.__version__ >= \"0.20\""
   ]
  },
  {
   "cell_type": "markdown",
   "metadata": {},
   "source": [
    "# Task 1: Load and pre-process the data set."
   ]
  },
  {
   "cell_type": "markdown",
   "metadata": {},
   "source": [
    "Step 1: Delete manually the redundant \";\" in line 3149 and line 4821 to run the code."
   ]
  },
  {
   "cell_type": "markdown",
   "metadata": {},
   "source": [
    "Step 2: Delete manually 6 full \"NaN\" elements lines - line 312, 1437, 1444, 1523, 2283, 4821 because these lines do not provide any information"
   ]
  },
  {
   "cell_type": "markdown",
   "metadata": {},
   "source": [
    "Step 3: Change the invalid value in 'quality' attribute to NaN"
   ]
  },
  {
   "cell_type": "markdown",
   "metadata": {},
   "source": [
    "Step 4: Delete by code all rows that have missing value."
   ]
  },
  {
   "cell_type": "markdown",
   "metadata": {},
   "source": [
    "Read the data from file and show the information and description:"
   ]
  },
  {
   "cell_type": "code",
   "execution_count": 3,
   "metadata": {},
   "outputs": [
    {
     "name": "stdout",
     "output_type": "stream",
     "text": [
      "<class 'pandas.core.frame.DataFrame'>\n",
      "RangeIndex: 4892 entries, 0 to 4891\n",
      "Data columns (total 12 columns):\n",
      "fixed acidity           4892 non-null float64\n",
      "volatile acidity        4891 non-null float64\n",
      "citric acid             4842 non-null float64\n",
      "residual sugar          4886 non-null float64\n",
      "chlorides               4890 non-null float64\n",
      "free sulfur dioxide     4888 non-null float64\n",
      "total sulfur dioxide    4889 non-null float64\n",
      "density                 4890 non-null float64\n",
      "pH                      4890 non-null float64\n",
      "sulphates               4892 non-null float64\n",
      "alcohol                 4890 non-null float64\n",
      "quality                 4795 non-null float64\n",
      "dtypes: float64(12)\n",
      "memory usage: 458.8 KB\n"
     ]
    },
    {
     "data": {
      "text/html": [
       "<div>\n",
       "<style scoped>\n",
       "    .dataframe tbody tr th:only-of-type {\n",
       "        vertical-align: middle;\n",
       "    }\n",
       "\n",
       "    .dataframe tbody tr th {\n",
       "        vertical-align: top;\n",
       "    }\n",
       "\n",
       "    .dataframe thead th {\n",
       "        text-align: right;\n",
       "    }\n",
       "</style>\n",
       "<table border=\"1\" class=\"dataframe\">\n",
       "  <thead>\n",
       "    <tr style=\"text-align: right;\">\n",
       "      <th></th>\n",
       "      <th>fixed acidity</th>\n",
       "      <th>volatile acidity</th>\n",
       "      <th>citric acid</th>\n",
       "      <th>residual sugar</th>\n",
       "      <th>chlorides</th>\n",
       "      <th>free sulfur dioxide</th>\n",
       "      <th>total sulfur dioxide</th>\n",
       "      <th>density</th>\n",
       "      <th>pH</th>\n",
       "      <th>sulphates</th>\n",
       "      <th>alcohol</th>\n",
       "      <th>quality</th>\n",
       "    </tr>\n",
       "  </thead>\n",
       "  <tbody>\n",
       "    <tr>\n",
       "      <td>count</td>\n",
       "      <td>4892.000000</td>\n",
       "      <td>4891.000000</td>\n",
       "      <td>4842.000000</td>\n",
       "      <td>4886.000000</td>\n",
       "      <td>4890.000000</td>\n",
       "      <td>4888.000000</td>\n",
       "      <td>4889.000000</td>\n",
       "      <td>4890.000000</td>\n",
       "      <td>4890.000000</td>\n",
       "      <td>4892.000000</td>\n",
       "      <td>4890.000000</td>\n",
       "      <td>4795.000000</td>\n",
       "    </tr>\n",
       "    <tr>\n",
       "      <td>mean</td>\n",
       "      <td>6.855100</td>\n",
       "      <td>0.278253</td>\n",
       "      <td>0.334292</td>\n",
       "      <td>6.396081</td>\n",
       "      <td>0.045778</td>\n",
       "      <td>35.331015</td>\n",
       "      <td>138.409388</td>\n",
       "      <td>0.994029</td>\n",
       "      <td>3.188119</td>\n",
       "      <td>0.489808</td>\n",
       "      <td>10.514188</td>\n",
       "      <td>5.876955</td>\n",
       "    </tr>\n",
       "    <tr>\n",
       "      <td>std</td>\n",
       "      <td>0.843951</td>\n",
       "      <td>0.100819</td>\n",
       "      <td>0.120942</td>\n",
       "      <td>5.074092</td>\n",
       "      <td>0.021861</td>\n",
       "      <td>17.013638</td>\n",
       "      <td>42.503065</td>\n",
       "      <td>0.002992</td>\n",
       "      <td>0.150934</td>\n",
       "      <td>0.114085</td>\n",
       "      <td>1.230431</td>\n",
       "      <td>0.884602</td>\n",
       "    </tr>\n",
       "    <tr>\n",
       "      <td>min</td>\n",
       "      <td>3.800000</td>\n",
       "      <td>0.080000</td>\n",
       "      <td>0.000000</td>\n",
       "      <td>0.600000</td>\n",
       "      <td>0.009000</td>\n",
       "      <td>2.000000</td>\n",
       "      <td>9.000000</td>\n",
       "      <td>0.987110</td>\n",
       "      <td>2.720000</td>\n",
       "      <td>0.220000</td>\n",
       "      <td>8.000000</td>\n",
       "      <td>3.000000</td>\n",
       "    </tr>\n",
       "    <tr>\n",
       "      <td>25%</td>\n",
       "      <td>6.300000</td>\n",
       "      <td>0.210000</td>\n",
       "      <td>0.270000</td>\n",
       "      <td>1.700000</td>\n",
       "      <td>0.036000</td>\n",
       "      <td>23.000000</td>\n",
       "      <td>108.000000</td>\n",
       "      <td>0.991730</td>\n",
       "      <td>3.090000</td>\n",
       "      <td>0.410000</td>\n",
       "      <td>9.500000</td>\n",
       "      <td>5.000000</td>\n",
       "    </tr>\n",
       "    <tr>\n",
       "      <td>50%</td>\n",
       "      <td>6.800000</td>\n",
       "      <td>0.260000</td>\n",
       "      <td>0.320000</td>\n",
       "      <td>5.200000</td>\n",
       "      <td>0.043000</td>\n",
       "      <td>34.000000</td>\n",
       "      <td>134.000000</td>\n",
       "      <td>0.993745</td>\n",
       "      <td>3.180000</td>\n",
       "      <td>0.470000</td>\n",
       "      <td>10.400000</td>\n",
       "      <td>6.000000</td>\n",
       "    </tr>\n",
       "    <tr>\n",
       "      <td>75%</td>\n",
       "      <td>7.300000</td>\n",
       "      <td>0.320000</td>\n",
       "      <td>0.390000</td>\n",
       "      <td>9.900000</td>\n",
       "      <td>0.050000</td>\n",
       "      <td>46.000000</td>\n",
       "      <td>167.000000</td>\n",
       "      <td>0.996100</td>\n",
       "      <td>3.280000</td>\n",
       "      <td>0.550000</td>\n",
       "      <td>11.400000</td>\n",
       "      <td>6.000000</td>\n",
       "    </tr>\n",
       "    <tr>\n",
       "      <td>max</td>\n",
       "      <td>14.200000</td>\n",
       "      <td>1.100000</td>\n",
       "      <td>1.660000</td>\n",
       "      <td>65.800000</td>\n",
       "      <td>0.346000</td>\n",
       "      <td>289.000000</td>\n",
       "      <td>440.000000</td>\n",
       "      <td>1.038980</td>\n",
       "      <td>3.820000</td>\n",
       "      <td>1.080000</td>\n",
       "      <td>14.200000</td>\n",
       "      <td>9.000000</td>\n",
       "    </tr>\n",
       "  </tbody>\n",
       "</table>\n",
       "</div>"
      ],
      "text/plain": [
       "       fixed acidity  volatile acidity  citric acid  residual sugar  \\\n",
       "count    4892.000000       4891.000000  4842.000000     4886.000000   \n",
       "mean        6.855100          0.278253     0.334292        6.396081   \n",
       "std         0.843951          0.100819     0.120942        5.074092   \n",
       "min         3.800000          0.080000     0.000000        0.600000   \n",
       "25%         6.300000          0.210000     0.270000        1.700000   \n",
       "50%         6.800000          0.260000     0.320000        5.200000   \n",
       "75%         7.300000          0.320000     0.390000        9.900000   \n",
       "max        14.200000          1.100000     1.660000       65.800000   \n",
       "\n",
       "         chlorides  free sulfur dioxide  total sulfur dioxide      density  \\\n",
       "count  4890.000000          4888.000000           4889.000000  4890.000000   \n",
       "mean      0.045778            35.331015            138.409388     0.994029   \n",
       "std       0.021861            17.013638             42.503065     0.002992   \n",
       "min       0.009000             2.000000              9.000000     0.987110   \n",
       "25%       0.036000            23.000000            108.000000     0.991730   \n",
       "50%       0.043000            34.000000            134.000000     0.993745   \n",
       "75%       0.050000            46.000000            167.000000     0.996100   \n",
       "max       0.346000           289.000000            440.000000     1.038980   \n",
       "\n",
       "                pH    sulphates      alcohol      quality  \n",
       "count  4890.000000  4892.000000  4890.000000  4795.000000  \n",
       "mean      3.188119     0.489808    10.514188     5.876955  \n",
       "std       0.150934     0.114085     1.230431     0.884602  \n",
       "min       2.720000     0.220000     8.000000     3.000000  \n",
       "25%       3.090000     0.410000     9.500000     5.000000  \n",
       "50%       3.180000     0.470000    10.400000     6.000000  \n",
       "75%       3.280000     0.550000    11.400000     6.000000  \n",
       "max       3.820000     1.080000    14.200000     9.000000  "
      ]
     },
     "execution_count": 3,
     "metadata": {},
     "output_type": "execute_result"
    }
   ],
   "source": [
    "import matplotlib.pyplot as plt\n",
    "import numpy as np\n",
    "import pandas as pd\n",
    "import sklearn.linear_model\n",
    "\n",
    "wine_data = pd.read_csv('winedata.csv',sep = ';', na_values = ['high','low', ' '])\n",
    "wine_data.info()\n",
    "wine_data.describe(include='all')"
   ]
  },
  {
   "cell_type": "code",
   "execution_count": 40,
   "metadata": {},
   "outputs": [
    {
     "name": "stdout",
     "output_type": "stream",
     "text": [
      "[('volatile acidity', 1), ('citric acid', 50), ('residual sugar', 6), ('chlorides', 2), ('free sulfur dioxide', 4), ('total sulfur dioxide', 3), ('density', 2), ('pH', 2)]\n",
      "                Columns  Number\n",
      "0      volatile acidity       1\n",
      "1           citric acid      50\n",
      "2        residual sugar       6\n",
      "3             chlorides       2\n",
      "4   free sulfur dioxide       4\n",
      "5  total sulfur dioxide       3\n",
      "6               density       2\n",
      "7                    pH       2\n"
     ]
    }
   ],
   "source": [
    "a = df.isnull().sum()\n",
    "b = list(df.columns)\n",
    "c = []\n",
    "for i in range (0,10):\n",
    "    if a[i] != 0:\n",
    "        c.append((b[i], a[i]))\n",
    "MissingData = pd.DataFrame(c, columns =['Columns', 'Number'])\n",
    "print (MissingData)"
   ]
  },
  {
   "cell_type": "markdown",
   "metadata": {},
   "source": [
    "Check the number of duplicate line:"
   ]
  },
  {
   "cell_type": "code",
   "execution_count": 5,
   "metadata": {},
   "outputs": [
    {
     "name": "stdout",
     "output_type": "stream",
     "text": [
      "(880, 12)\n"
     ]
    }
   ],
   "source": [
    "duplicate = wine_data[wine_data.duplicated()]\n",
    "print(duplicate.shape)"
   ]
  },
  {
   "cell_type": "markdown",
   "metadata": {},
   "source": [
    "Delete all rows with missing value:"
   ]
  },
  {
   "cell_type": "code",
   "execution_count": 6,
   "metadata": {},
   "outputs": [],
   "source": [
    "wine_data = wine_data.dropna()"
   ]
  },
  {
   "cell_type": "markdown",
   "metadata": {},
   "source": [
    "Conclusion:"
   ]
  },
  {
   "cell_type": "markdown",
   "metadata": {},
   "source": [
    "1. There are 4892 wines (collected from Range Index)"
   ]
  },
  {
   "cell_type": "markdown",
   "metadata": {},
   "source": [
    "2. There are 880 duplicate lines => All the wines are not unique. The number of unique wines is: 4892 - 880 = 4012 unique wines."
   ]
  },
  {
   "cell_type": "markdown",
   "metadata": {},
   "source": [
    "3. From the information of data, all attributes except 'fixed acidity' and  'sulphates' have missing data. The 'quality' attribute also have invalid data: 'low' and 'high'."
   ]
  },
  {
   "cell_type": "markdown",
   "metadata": {},
   "source": [
    "4. From the description of the attributes, the minimum value , the maximum value and the mean value of each attribute is different with others. For example, for 'citric acid' min is 0.000, max is 1.660 and mean is 0.334 ; for 'total sulfur dioxide' min is 9.000, max is 440.000 and mean is 138.409 => the scale of the different attributes is not approximately equal."
   ]
  },
  {
   "cell_type": "markdown",
   "metadata": {},
   "source": [
    "# Task 2: Visualise the data"
   ]
  },
  {
   "cell_type": "markdown",
   "metadata": {},
   "source": [
    "Step 1: Plot frequency histograms of each attribute in the data set."
   ]
  },
  {
   "cell_type": "markdown",
   "metadata": {},
   "source": [
    "Step 2: Calculate the correlation of each other attribute with 'quality' and find 3 attributes that are most correlated with 'quality'."
   ]
  },
  {
   "cell_type": "markdown",
   "metadata": {},
   "source": [
    "Step 3: For these 3 attributes, display scatter plots of each attribute against 'quality'."
   ]
  },
  {
   "cell_type": "markdown",
   "metadata": {},
   "source": [
    "Plot the histograms of each attribute in the data set:"
   ]
  },
  {
   "cell_type": "code",
   "execution_count": 55,
   "metadata": {},
   "outputs": [
    {
     "data": {
      "image/png": "[encoded data removed]",
      "text/plain": [
       "<Figure size 1440x1440 with 12 Axes>"
      ]
     },
     "metadata": {
      "needs_background": "light"
     },
     "output_type": "display_data"
    }
   ],
   "source": [
    "wine_data.hist(bins = 50 , figsize = (20,20))\n",
    "plt.show()"
   ]
  },
  {
   "cell_type": "markdown",
   "metadata": {},
   "source": [
    "1. From these histograms, I can observe the range and how frequent the most frequent distribution of each attribute. For example: 'Alcohol' value has the range of the most frequent distribution is 9 to 10 and the most frequent value appears around 350 times. 'Total sulfur dioxide' value has the range of the most frequent distribution is 100 to 130 and the most frequent value appears around 400 times."
   ]
  },
  {
   "cell_type": "markdown",
   "metadata": {},
   "source": [
    "Calculate the correlation:"
   ]
  },
  {
   "cell_type": "code",
   "execution_count": 8,
   "metadata": {
    "scrolled": true
   },
   "outputs": [
    {
     "data": {
      "text/plain": [
       "quality                 1.000000\n",
       "alcohol                 0.432733\n",
       "pH                      0.096504\n",
       "sulphates               0.054807\n",
       "free sulfur dioxide     0.007281\n",
       "citric acid            -0.007378\n",
       "residual sugar         -0.097953\n",
       "fixed acidity          -0.115778\n",
       "total sulfur dioxide   -0.177521\n",
       "volatile acidity       -0.201044\n",
       "chlorides              -0.207202\n",
       "density                -0.305599\n",
       "Name: quality, dtype: float64"
      ]
     },
     "execution_count": 8,
     "metadata": {},
     "output_type": "execute_result"
    }
   ],
   "source": [
    "correlation = wine_data.corr()\n",
    "correlation['quality'].sort_values(ascending = False)"
   ]
  },
  {
   "cell_type": "markdown",
   "metadata": {},
   "source": [
    "2a. From the calculate, 'alcohol', 'chlorides' and 'density' are 3 attributes that have greatest absolute values => they are 3 attributes that are most correlated with 'quality'."
   ]
  },
  {
   "cell_type": "markdown",
   "metadata": {},
   "source": [
    "Draw the scatter plots of these 3 attributes:"
   ]
  },
  {
   "cell_type": "code",
   "execution_count": 56,
   "metadata": {},
   "outputs": [
    {
     "data": {
      "text/plain": [
       "<matplotlib.axes._subplots.AxesSubplot at 0x24ff9ce9e48>"
      ]
     },
     "execution_count": 56,
     "metadata": {},
     "output_type": "execute_result"
    },
    {
     "data": {
      "image/png": "[encoded data removed]",
      "text/plain": [
       "<Figure size 432x288 with 1 Axes>"
      ]
     },
     "metadata": {
      "needs_background": "light"
     },
     "output_type": "display_data"
    },
    {
     "data": {
      "image/png": "[encoded data removed]",
      "text/plain": [
       "<Figure size 432x288 with 1 Axes>"
      ]
     },
     "metadata": {
      "needs_background": "light"
     },
     "output_type": "display_data"
    },
    {
     "data": {
      "image/png": "[encoded data removed]",
      "text/plain": [
       "<Figure size 432x288 with 1 Axes>"
      ]
     },
     "metadata": {
      "needs_background": "light"
     },
     "output_type": "display_data"
    }
   ],
   "source": [
    "wine_data.plot(kind = 'scatter', x = 'alcohol', y = 'quality', alpha = 0.2)\n",
    "wine_data.plot(kind = 'scatter', x = 'chlorides', y = 'quality', alpha = 0.2)\n",
    "wine_data.plot(kind = 'scatter', x = 'density', y = 'quality', alpha = 0.2)"
   ]
  },
  {
   "cell_type": "markdown",
   "metadata": {},
   "source": [
    "2b. From these scatter plots, we can observe that:"
   ]
  },
  {
   "cell_type": "markdown",
   "metadata": {},
   "source": [
    "If 'Alcohol' value is belong [8, 8.5] then 'Quality' value is belong to [3,5]. If 'Alcohol' value is belong [8, 14.2] then 'Quality' value is belong to [3,9]. "
   ]
  },
  {
   "cell_type": "markdown",
   "metadata": {},
   "source": [
    "If 'Chlorides' value is belong [0.009, 0.145] then 'Quality' value is belong to [3,9]. If 'Chlorides' value is belong [0.145, 0.346] then 'Quality' value is belong to [3,6]. "
   ]
  },
  {
   "cell_type": "markdown",
   "metadata": {},
   "source": [
    "If 'Density' value is belong [0.987110, 1.004000] then 'Quality' value is belong to [3,9]. If 'Density' value is belong [1.004000, 1.038980] then 'Quality' value is 6. "
   ]
  },
  {
   "cell_type": "markdown",
   "metadata": {},
   "source": [
    "=> Conclusion: If 'Alcohol' value is belong to [8, 14.2]; 'Chlorides' value is belong to [0.009, 0.145]; 'Density' value is belong to [0.987110, 1.004000] then 'Quality' value is belong to [3,9]"
   ]
  },
  {
   "cell_type": "markdown",
   "metadata": {},
   "source": [
    "# Task 3: Predicting wine quality: baseline "
   ]
  },
  {
   "cell_type": "markdown",
   "metadata": {},
   "source": [
    "Step 1:  Split 80% of the data set into training data, other 20% of the data set into test data"
   ]
  },
  {
   "cell_type": "markdown",
   "metadata": {},
   "source": [
    "Step 2:  Use the median quality value in the training set as predicted value "
   ]
  },
  {
   "cell_type": "markdown",
   "metadata": {},
   "source": [
    "Step 3: Calculate the rmse for this predictor when used on the training data"
   ]
  },
  {
   "cell_type": "markdown",
   "metadata": {},
   "source": [
    "Split the data set"
   ]
  },
  {
   "cell_type": "code",
   "execution_count": 10,
   "metadata": {},
   "outputs": [],
   "source": [
    "from sklearn.model_selection import train_test_split\n",
    "train_set, test_set = train_test_split(wine_data, test_size = 0.2, random_state = 89)"
   ]
  },
  {
   "cell_type": "code",
   "execution_count": 11,
   "metadata": {},
   "outputs": [],
   "source": [
    "training_features = train_set.drop(['quality'], axis=1)\n",
    "training_labels = train_set['quality'].copy()"
   ]
  },
  {
   "cell_type": "markdown",
   "metadata": {},
   "source": [
    "Use the median quality value as predicted value and calculate the root mean square error (rmse) of this predictor:"
   ]
  },
  {
   "cell_type": "code",
   "execution_count": 12,
   "metadata": {},
   "outputs": [
    {
     "data": {
      "text/plain": [
       "0.8922995694537275"
      ]
     },
     "execution_count": 12,
     "metadata": {},
     "output_type": "execute_result"
    }
   ],
   "source": [
    "from sklearn.metrics import mean_squared_error\n",
    "from math import sqrt\n",
    "training_labels_predict1 = [train_set['quality'].median()] * training_labels.size\n",
    "np.sqrt(mean_squared_error(training_labels, training_labels_predict1))"
   ]
  },
  {
   "cell_type": "markdown",
   "metadata": {},
   "source": [
    "Conclusion:"
   ]
  },
  {
   "cell_type": "markdown",
   "metadata": {},
   "source": [
    "1. The rmse for the predictor that use the median quality value as predicted value on the training set is 0.892"
   ]
  },
  {
   "cell_type": "markdown",
   "metadata": {},
   "source": [
    "2. From definition, classification is used to predicts discrete classes and regression is used to predict continuous values. Hence, to use classification, we need to divide the output into different discrete classes. However, in this data, we want to predict the value of 'quality' in the range from 1 to 10 => Regression is better when using for this data."
   ]
  },
  {
   "cell_type": "markdown",
   "metadata": {},
   "source": [
    "# Task 4: Predicting wine quality"
   ]
  },
  {
   "cell_type": "markdown",
   "metadata": {},
   "source": [
    "The scatter plot represents the combination of actual quality, predicted quality (with x is predicted quality and y is actual quality)."
   ]
  },
  {
   "cell_type": "markdown",
   "metadata": {},
   "source": [
    "Build a linear regression model and calculate the rmse on training data:"
   ]
  },
  {
   "cell_type": "code",
   "execution_count": 13,
   "metadata": {},
   "outputs": [
    {
     "data": {
      "text/plain": [
       "0.748918955558996"
      ]
     },
     "execution_count": 13,
     "metadata": {},
     "output_type": "execute_result"
    }
   ],
   "source": [
    "from sklearn import linear_model\n",
    "reg = linear_model.LinearRegression()\n",
    "reg.fit(training_features,training_labels)\n",
    "training_labels_predict2 = reg.predict(training_features)\n",
    "np.sqrt(mean_squared_error(training_labels, training_labels_predict2))"
   ]
  },
  {
   "cell_type": "markdown",
   "metadata": {},
   "source": [
    "=> The rmse of linear regression model is 0.749"
   ]
  },
  {
   "cell_type": "markdown",
   "metadata": {},
   "source": [
    "Draw a scatter plot represents the combination of actual quality, predicted quality of the linear regression model:"
   ]
  },
  {
   "cell_type": "code",
   "execution_count": 57,
   "metadata": {},
   "outputs": [
    {
     "data": {
      "image/png": "[encoded data removed]",
      "text/plain": [
       "<Figure size 432x288 with 1 Axes>"
      ]
     },
     "metadata": {
      "needs_background": "light"
     },
     "output_type": "display_data"
    }
   ],
   "source": [
    "plt.scatter(x = training_labels_predict2, y = training_labels, alpha = 0.2)\n",
    "plt.xlabel('Predicted quality')\n",
    "plt.ylabel('Actual quality')\n",
    "plt.show()"
   ]
  },
  {
   "cell_type": "markdown",
   "metadata": {},
   "source": [
    "=> From the plot, we can observe that this model has low variance."
   ]
  },
  {
   "cell_type": "markdown",
   "metadata": {},
   "source": [
    "Build a k nearest neighbour regression model with k = 2 and calculate the rmse on training data:"
   ]
  },
  {
   "cell_type": "code",
   "execution_count": 15,
   "metadata": {},
   "outputs": [
    {
     "data": {
      "text/plain": [
       "0.4477740322409436"
      ]
     },
     "execution_count": 15,
     "metadata": {},
     "output_type": "execute_result"
    }
   ],
   "source": [
    "from sklearn.neighbors import KNeighborsRegressor\n",
    "neigh1 = KNeighborsRegressor(n_neighbors = 2)\n",
    "neigh1.fit(training_features,training_labels)\n",
    "training_labels_predict3 = neigh1.predict(training_features)\n",
    "np.sqrt(mean_squared_error(training_labels, training_labels_predict3))"
   ]
  },
  {
   "cell_type": "markdown",
   "metadata": {},
   "source": [
    "=> The rmse of k nearest neighbour regression model with k = 2 is 0.448 "
   ]
  },
  {
   "cell_type": "markdown",
   "metadata": {},
   "source": [
    "Draw a scatter plot represents the combination of actual quality, predicted quality of the k nearest neighbour regression model with k = 2:"
   ]
  },
  {
   "cell_type": "code",
   "execution_count": 58,
   "metadata": {},
   "outputs": [
    {
     "data": {
      "image/png": "[encoded data removed]",
      "text/plain": [
       "<Figure size 432x288 with 1 Axes>"
      ]
     },
     "metadata": {
      "needs_background": "light"
     },
     "output_type": "display_data"
    }
   ],
   "source": [
    "plt.scatter(x = training_labels_predict3, y = training_labels, alpha = 0.2)\n",
    "plt.xlabel('Predicted quality')\n",
    "plt.ylabel('Actual quality')\n",
    "plt.show()"
   ]
  },
  {
   "cell_type": "markdown",
   "metadata": {},
   "source": [
    "=> From the plot, we can observe that this model has high variance."
   ]
  },
  {
   "cell_type": "markdown",
   "metadata": {},
   "source": [
    "Build a k nearest neighbour regression model with k = 5 and calculate the rmse on training data:"
   ]
  },
  {
   "cell_type": "code",
   "execution_count": 17,
   "metadata": {},
   "outputs": [
    {
     "data": {
      "text/plain": [
       "0.6530975660911724"
      ]
     },
     "execution_count": 17,
     "metadata": {},
     "output_type": "execute_result"
    }
   ],
   "source": [
    "from sklearn.neighbors import KNeighborsRegressor\n",
    "neigh2 = KNeighborsRegressor(n_neighbors = 5)\n",
    "neigh2.fit(training_features,training_labels)\n",
    "training_labels_predict4 = neigh2.predict(training_features)\n",
    "np.sqrt(mean_squared_error(training_labels, training_labels_predict4))"
   ]
  },
  {
   "cell_type": "markdown",
   "metadata": {},
   "source": [
    "=> The rmse of k nearest neighbour regression model with k = 5 is 0.653 "
   ]
  },
  {
   "cell_type": "markdown",
   "metadata": {},
   "source": [
    "Draw a scatter plot represents the combination of actual quality, predicted quality of the k nearest neighbour regression model with k = 5:"
   ]
  },
  {
   "cell_type": "code",
   "execution_count": 59,
   "metadata": {},
   "outputs": [
    {
     "data": {
      "image/png": "[encoded data removed]",
      "text/plain": [
       "<Figure size 432x288 with 1 Axes>"
      ]
     },
     "metadata": {
      "needs_background": "light"
     },
     "output_type": "display_data"
    }
   ],
   "source": [
    "plt.scatter(x = training_labels_predict4, y = training_labels, alpha = 0.2)\n",
    "plt.xlabel('Predicted quality')\n",
    "plt.ylabel('Actual quality')\n",
    "plt.show()"
   ]
  },
  {
   "cell_type": "markdown",
   "metadata": {},
   "source": [
    "=> From the plot, we can observe that this model has high variance."
   ]
  },
  {
   "cell_type": "markdown",
   "metadata": {},
   "source": [
    "Build a k nearest neighbour regression model with k = 100 and calculate the rmse on training data:"
   ]
  },
  {
   "cell_type": "code",
   "execution_count": 19,
   "metadata": {},
   "outputs": [
    {
     "data": {
      "text/plain": [
       "0.8173830643692311"
      ]
     },
     "execution_count": 19,
     "metadata": {},
     "output_type": "execute_result"
    }
   ],
   "source": [
    "from sklearn.neighbors import KNeighborsRegressor\n",
    "neigh3 = KNeighborsRegressor(n_neighbors = 100)\n",
    "neigh3.fit(training_features,training_labels)\n",
    "training_labels_predict5 = neigh3.predict(training_features)\n",
    "np.sqrt(mean_squared_error(training_labels, training_labels_predict5))"
   ]
  },
  {
   "cell_type": "markdown",
   "metadata": {},
   "source": [
    "=> The rmse of k nearest neighbour regression model with k = 100 is 0.817"
   ]
  },
  {
   "cell_type": "markdown",
   "metadata": {},
   "source": [
    "Draw a scatter plot represents the combination of actual quality, predicted quality of the k nearest neighbour regression model with k = 100:"
   ]
  },
  {
   "cell_type": "code",
   "execution_count": 60,
   "metadata": {},
   "outputs": [
    {
     "data": {
      "image/png": "[encoded data removed]",
      "text/plain": [
       "<Figure size 432x288 with 1 Axes>"
      ]
     },
     "metadata": {
      "needs_background": "light"
     },
     "output_type": "display_data"
    }
   ],
   "source": [
    "plt.scatter(x = training_labels_predict5, y = training_labels, alpha = 0.2)\n",
    "plt.xlabel('Predicted quality')\n",
    "plt.ylabel('Actual quality')\n",
    "plt.show()"
   ]
  },
  {
   "cell_type": "markdown",
   "metadata": {},
   "source": [
    "=> From the plot, we can observe that this model has low variance."
   ]
  },
  {
   "cell_type": "markdown",
   "metadata": {},
   "source": [
    "Build a decision tree model and calculate the rmse on training data:"
   ]
  },
  {
   "cell_type": "code",
   "execution_count": 21,
   "metadata": {},
   "outputs": [
    {
     "data": {
      "text/plain": [
       "0.0"
      ]
     },
     "execution_count": 21,
     "metadata": {},
     "output_type": "execute_result"
    }
   ],
   "source": [
    "from sklearn import tree\n",
    "dec = tree.DecisionTreeRegressor()\n",
    "dec.fit(training_features,training_labels)\n",
    "training_labels_predict6 = dec.predict(training_features)\n",
    "np.sqrt(mean_squared_error(training_labels, training_labels_predict6))"
   ]
  },
  {
   "cell_type": "markdown",
   "metadata": {},
   "source": [
    "=> The rmse of decision tree model is 0.000"
   ]
  },
  {
   "cell_type": "markdown",
   "metadata": {},
   "source": [
    "Draw a scatter plot represents the combination of actual quality, predicted quality of the decision tree model:"
   ]
  },
  {
   "cell_type": "code",
   "execution_count": 61,
   "metadata": {},
   "outputs": [
    {
     "data": {
      "image/png": "[encoded data removed]",
      "text/plain": [
       "<Figure size 432x288 with 1 Axes>"
      ]
     },
     "metadata": {
      "needs_background": "light"
     },
     "output_type": "display_data"
    }
   ],
   "source": [
    "plt.scatter(x = training_labels_predict6, y = training_labels, alpha = 0.2)\n",
    "plt.xlabel('Predicted quality')\n",
    "plt.ylabel('Actual quality')\n",
    "plt.show()"
   ]
  },
  {
   "cell_type": "markdown",
   "metadata": {},
   "source": [
    "=> From the plot, we can observe that this model has high variance."
   ]
  },
  {
   "cell_type": "markdown",
   "metadata": {},
   "source": [
    "Conclusion:"
   ]
  },
  {
   "cell_type": "markdown",
   "metadata": {},
   "source": [
    "1. The rmse of decision tree model is the lowest (0.000); of k nearest neighbour regression model with k = 2 and k = 5 is higher (0.448 and 0.653); follow by that of linear regression model (0.749) and the rmse of k nearest neighbour regression model with k = 100 is the highest (0.817)"
   ]
  },
  {
   "cell_type": "markdown",
   "metadata": {},
   "source": [
    "2. The rmse of k nearest neighbour regression model with k = 2 is is the lowest (0.448), with k = 5 is higher (0.653) and with k = 100 is the highest (0.817)."
   ]
  },
  {
   "cell_type": "markdown",
   "metadata": {},
   "source": [
    "Explanation:"
   ]
  },
  {
   "cell_type": "markdown",
   "metadata": {},
   "source": [
    "The linear regression model use the linear formula to show the relationship between independent variables (in this case, all of the attributes expect 'quality') and dependent variable (in this case, 'quality'). This model is restricted to linear relationship."
   ]
  },
  {
   "cell_type": "markdown",
   "metadata": {},
   "source": [
    "The k nearest neighbour regression model use k nearest points to calculate the predicted value. In this case, if 'k' is small (k = 2 and k = 5), the predicted value depends on small nearest points => this model has high variance and low bias => The rmse of this model is lower than that of decision tree model. If 'k' is large (k = 100), the predicted value depends on large nearest points => this model has low variance and high bias => The rmse of this model with large 'k' is higher than that of decision tree model."
   ]
  },
  {
   "cell_type": "markdown",
   "metadata": {},
   "source": [
    "The Decision tree regression model arriving at an estimate by asking a series of True/False questions to the data, each question narrowing the possible values until the stopping condition is met (in this case, the stopping condition is there is no possible further split) => the rmse of this model is 0.000 on the training data; this model has low variance and high bias."
   ]
  },
  {
   "cell_type": "markdown",
   "metadata": {},
   "source": [
    "# Task 5: Cross validation "
   ]
  },
  {
   "cell_type": "markdown",
   "metadata": {},
   "source": [
    "Perform 10 fold cross validation for decision tree model"
   ]
  },
  {
   "cell_type": "code",
   "execution_count": 23,
   "metadata": {},
   "outputs": [
    {
     "data": {
      "text/plain": [
       "array([0.82025802, 0.78910791, 0.85336521, 0.78407635, 0.84247405,\n",
       "       0.88523509, 0.87171925, 0.8956064 , 0.82455696, 0.85758366])"
      ]
     },
     "execution_count": 23,
     "metadata": {},
     "output_type": "execute_result"
    }
   ],
   "source": [
    "from sklearn.model_selection import cross_val_score\n",
    "scores1 = cross_val_score(dec, training_features, training_labels, scoring = 'neg_mean_squared_error', cv = 10)\n",
    "np.sqrt(-scores1)"
   ]
  },
  {
   "cell_type": "code",
   "execution_count": 24,
   "metadata": {},
   "outputs": [
    {
     "data": {
      "text/plain": [
       "0.8423982911000969"
      ]
     },
     "execution_count": 24,
     "metadata": {},
     "output_type": "execute_result"
    }
   ],
   "source": [
    "np.sqrt(-scores1).mean()"
   ]
  },
  {
   "cell_type": "code",
   "execution_count": 25,
   "metadata": {},
   "outputs": [
    {
     "data": {
      "text/plain": [
       "0.035953449455046554"
      ]
     },
     "execution_count": 25,
     "metadata": {},
     "output_type": "execute_result"
    }
   ],
   "source": [
    "np.sqrt(-scores1).std()"
   ]
  },
  {
   "cell_type": "markdown",
   "metadata": {},
   "source": [
    "=> After 10 fold cross validation, the decision tree model has 10 rmse values with the Mean is 0.847 and the Standard deviation is 0.034"
   ]
  },
  {
   "cell_type": "markdown",
   "metadata": {},
   "source": [
    "Perform 10 fold cross validation for the k nearest neighbour regression model with k = 2"
   ]
  },
  {
   "cell_type": "code",
   "execution_count": 26,
   "metadata": {},
   "outputs": [
    {
     "data": {
      "text/plain": [
       "array([0.83262943, 0.82346844, 0.81945345, 0.84364769, 0.77858881,\n",
       "       0.87096223, 0.7932765 , 0.89006537, 0.93222724, 0.82735954])"
      ]
     },
     "execution_count": 26,
     "metadata": {},
     "output_type": "execute_result"
    }
   ],
   "source": [
    "scores2 = cross_val_score(neigh1, training_features, training_labels, scoring = 'neg_mean_squared_error', cv = 10)\n",
    "np.sqrt(-scores2)"
   ]
  },
  {
   "cell_type": "code",
   "execution_count": 27,
   "metadata": {},
   "outputs": [
    {
     "data": {
      "text/plain": [
       "0.8411678676542994"
      ]
     },
     "execution_count": 27,
     "metadata": {},
     "output_type": "execute_result"
    }
   ],
   "source": [
    "np.sqrt(-scores2).mean()"
   ]
  },
  {
   "cell_type": "code",
   "execution_count": 28,
   "metadata": {},
   "outputs": [
    {
     "data": {
      "text/plain": [
       "0.04339897516756443"
      ]
     },
     "execution_count": 28,
     "metadata": {},
     "output_type": "execute_result"
    }
   ],
   "source": [
    "np.sqrt(-scores2).std()"
   ]
  },
  {
   "cell_type": "markdown",
   "metadata": {},
   "source": [
    "=> After 10 fold cross validation, the k nearest neighbour regression model with k = 2 has 10 rmse values with the Mean is 0.841 and the Standard deviation is 0.043"
   ]
  },
  {
   "cell_type": "markdown",
   "metadata": {},
   "source": [
    "Perform 10 fold cross validation for the k nearest neighbour regression model with k = 5:"
   ]
  },
  {
   "cell_type": "code",
   "execution_count": 29,
   "metadata": {},
   "outputs": [
    {
     "data": {
      "text/plain": [
       "array([0.79264428, 0.78783629, 0.82410902, 0.80761547, 0.77684159,\n",
       "       0.82647486, 0.80944295, 0.85657476, 0.86916611, 0.84069762])"
      ]
     },
     "execution_count": 29,
     "metadata": {},
     "output_type": "execute_result"
    }
   ],
   "source": [
    "scores3 = cross_val_score(neigh2, training_features, training_labels, scoring = 'neg_mean_squared_error', cv = 10)\n",
    "np.sqrt(-scores3)"
   ]
  },
  {
   "cell_type": "code",
   "execution_count": 30,
   "metadata": {},
   "outputs": [
    {
     "data": {
      "text/plain": [
       "0.8191402939937868"
      ]
     },
     "execution_count": 30,
     "metadata": {},
     "output_type": "execute_result"
    }
   ],
   "source": [
    "np.sqrt(-scores3).mean()"
   ]
  },
  {
   "cell_type": "code",
   "execution_count": 31,
   "metadata": {},
   "outputs": [
    {
     "data": {
      "text/plain": [
       "0.02853969927064808"
      ]
     },
     "execution_count": 31,
     "metadata": {},
     "output_type": "execute_result"
    }
   ],
   "source": [
    "np.sqrt(-scores3).std()"
   ]
  },
  {
   "cell_type": "markdown",
   "metadata": {},
   "source": [
    "=> After 10 fold cross validation, the k nearest neighbour regression model with k = 5 has 10 rmse values with the Mean is 0.819 and the Standard deviation is 0.029"
   ]
  },
  {
   "cell_type": "markdown",
   "metadata": {},
   "source": [
    "Perform 10 fold cross validation for the k nearest neighbour regression model with k = 100:"
   ]
  },
  {
   "cell_type": "code",
   "execution_count": 32,
   "metadata": {},
   "outputs": [
    {
     "data": {
      "text/plain": [
       "array([0.81755572, 0.77085003, 0.8307086 , 0.84137593, 0.78169628,\n",
       "       0.84816393, 0.78390252, 0.85215264, 0.87126603, 0.85644831])"
      ]
     },
     "execution_count": 32,
     "metadata": {},
     "output_type": "execute_result"
    }
   ],
   "source": [
    "scores4 = cross_val_score(neigh3, training_features, training_labels, scoring = 'neg_mean_squared_error', cv = 10)\n",
    "np.sqrt(-scores4)"
   ]
  },
  {
   "cell_type": "code",
   "execution_count": 33,
   "metadata": {},
   "outputs": [
    {
     "data": {
      "text/plain": [
       "0.8254119996021408"
      ]
     },
     "execution_count": 33,
     "metadata": {},
     "output_type": "execute_result"
    }
   ],
   "source": [
    "np.sqrt(-scores4).mean()"
   ]
  },
  {
   "cell_type": "code",
   "execution_count": 34,
   "metadata": {},
   "outputs": [
    {
     "data": {
      "text/plain": [
       "0.03354741204664086"
      ]
     },
     "execution_count": 34,
     "metadata": {},
     "output_type": "execute_result"
    }
   ],
   "source": [
    "np.sqrt(-scores4).std()"
   ]
  },
  {
   "cell_type": "markdown",
   "metadata": {},
   "source": [
    "=> After 10 fold cross validation, the k nearest neighbour regression model with k = 100 has 10 rmse values with the Mean is 0.825 and the Standard deviation is 0.034."
   ]
  },
  {
   "cell_type": "markdown",
   "metadata": {},
   "source": [
    "Perform 10 fold cross validation for the linear regression model:"
   ]
  },
  {
   "cell_type": "code",
   "execution_count": 35,
   "metadata": {},
   "outputs": [
    {
     "data": {
      "text/plain": [
       "array([0.73506089, 0.71465699, 0.76586764, 0.80219738, 0.71017192,\n",
       "       0.7185415 , 0.76276561, 0.76723547, 0.79008287, 0.76111821])"
      ]
     },
     "execution_count": 35,
     "metadata": {},
     "output_type": "execute_result"
    }
   ],
   "source": [
    "scores5 = cross_val_score(reg, training_features, training_labels, scoring = 'neg_mean_squared_error', cv = 10)\n",
    "np.sqrt(-scores5)"
   ]
  },
  {
   "cell_type": "code",
   "execution_count": 36,
   "metadata": {},
   "outputs": [
    {
     "data": {
      "text/plain": [
       "0.7527698473082556"
      ]
     },
     "execution_count": 36,
     "metadata": {},
     "output_type": "execute_result"
    }
   ],
   "source": [
    "np.sqrt(-scores5).mean()"
   ]
  },
  {
   "cell_type": "code",
   "execution_count": 37,
   "metadata": {},
   "outputs": [
    {
     "data": {
      "text/plain": [
       "0.030229322071314315"
      ]
     },
     "execution_count": 37,
     "metadata": {},
     "output_type": "execute_result"
    }
   ],
   "source": [
    "np.sqrt(-scores5).std()"
   ]
  },
  {
   "cell_type": "markdown",
   "metadata": {},
   "source": [
    "=> After 10 fold cross validation, the linear regression model has 10 rmse values with the Mean is 0.753 and the Standard deviation is 0.030"
   ]
  },
  {
   "cell_type": "markdown",
   "metadata": {},
   "source": [
    "Conclusion:"
   ]
  },
  {
   "cell_type": "markdown",
   "metadata": {},
   "source": [
    "1a. After perform 10 fold cross validation, the linear regression model has the lowest Rmse Mean value (0.753), the k nearest neighbour regression models have higher Rmse Mean value (0.841; 0.819; 0.825) and the decision tree model has the highest Rmse Mean value (0.849)"
   ]
  },
  {
   "cell_type": "markdown",
   "metadata": {},
   "source": [
    "1b. After perform 10 fold cross validation, the k nearest neighbour regression model with k = 5 has the lowest Rmse Mean value (0.819), that model with k = 100 has higher Rmse Mean value (0.825) and that model with k = 2 has the highest Rmse Mean value (0.841)"
   ]
  },
  {
   "cell_type": "markdown",
   "metadata": {},
   "source": [
    "2a. From the result, the linear model has the lowest Rmse Mean value after 10 fold cross validation while the decision tree model has the highest Rmse Mean value. The reason for that is the decision tree model and k nearest neighbour regression models with small 'k' (k = 2 and k = 5) have high variance and low bias (as explanation is task 4) => These models have higher Rmse mean value than the linear model when performing 10 fold cross validation. About k nearest neighbour regression model with large 'k' (k = 100), this model still have low variance and high bias (as explanation is task 4) => this model has higher Rmse mean value than the linear model when performing 10 fold cross validation."
   ]
  },
  {
   "cell_type": "markdown",
   "metadata": {},
   "source": [
    "2b. On this basis, the most suitable model is linear regression model because that model has the lowest rmse after 10 fold cross validation."
   ]
  },
  {
   "cell_type": "markdown",
   "metadata": {},
   "source": [
    "# Task 6: Free choice"
   ]
  },
  {
   "cell_type": "markdown",
   "metadata": {},
   "source": [
    "Step 1: Choosing new model - Random Forest Regression model"
   ]
  },
  {
   "cell_type": "markdown",
   "metadata": {},
   "source": [
    "Step 2: Optimization the Random Forest Regression model"
   ]
  },
  {
   "cell_type": "markdown",
   "metadata": {},
   "source": [
    "Step 3: Running both models on the test data."
   ]
  },
  {
   "cell_type": "markdown",
   "metadata": {},
   "source": [
    "The reason I choose Random Forest Regression model is I want to keep the strength of the Decision Tree Regression model (high variance) and improve the weakness of that model (low bias).\n",
    "Random Forest Regression model is the model that have several Decision Trees. Each tree use a part of the training data. The predicted value is the average of the values provided by these Decision Tree. As the result, that model prevents the \"overfitting\" problem of the Decision Tree Regression model."
   ]
  },
  {
   "cell_type": "markdown",
   "metadata": {},
   "source": [
    "Perform 10 fold cross validation for Random Forest Regression model:"
   ]
  },
  {
   "cell_type": "code",
   "execution_count": 38,
   "metadata": {},
   "outputs": [
    {
     "data": {
      "text/plain": [
       "array([0.59869317, 0.57384184, 0.63002199, 0.58686187, 0.57519206,\n",
       "       0.62315649, 0.63786997, 0.65413804, 0.65527873, 0.62589639])"
      ]
     },
     "execution_count": 38,
     "metadata": {},
     "output_type": "execute_result"
    }
   ],
   "source": [
    "from sklearn.ensemble import RandomForestRegressor\n",
    "for_reg = RandomForestRegressor(n_estimators = 100)\n",
    "for_reg.fit(training_features,training_labels)\n",
    "scores6 = cross_val_score(for_reg, training_features, training_labels, scoring = 'neg_mean_squared_error', cv = 10)\n",
    "np.sqrt(-scores6)"
   ]
  },
  {
   "cell_type": "code",
   "execution_count": 39,
   "metadata": {},
   "outputs": [
    {
     "data": {
      "text/plain": [
       "0.6160950554538329"
      ]
     },
     "execution_count": 39,
     "metadata": {},
     "output_type": "execute_result"
    }
   ],
   "source": [
    "np.sqrt(-scores6).mean()"
   ]
  },
  {
   "cell_type": "code",
   "execution_count": 40,
   "metadata": {},
   "outputs": [
    {
     "data": {
      "text/plain": [
       "0.029004238311748365"
      ]
     },
     "execution_count": 40,
     "metadata": {},
     "output_type": "execute_result"
    }
   ],
   "source": [
    "np.sqrt(-scores6).std()"
   ]
  },
  {
   "cell_type": "markdown",
   "metadata": {},
   "source": [
    "=> After 10 fold cross validation, the Random Forest Regression model has 10 rmse values with the Mean is 0.615 and the Standard deviation is 0.031"
   ]
  },
  {
   "cell_type": "markdown",
   "metadata": {},
   "source": [
    "=> Compare to the most suitable model in task 5 - linear regression model, the Random Forest Regression model has lower Rmse Mean value (0.615) than the linear regression model (0.753)"
   ]
  },
  {
   "cell_type": "markdown",
   "metadata": {},
   "source": [
    "Optimization the Random Forest Regression model by using RandomizedSearchCV to get the most suitable parameters:"
   ]
  },
  {
   "cell_type": "code",
   "execution_count": 44,
   "metadata": {},
   "outputs": [
    {
     "data": {
      "text/plain": [
       "{'n_estimators': 500, 'max_features': 'log2', 'max_depth': 34.0}"
      ]
     },
     "execution_count": 44,
     "metadata": {},
     "output_type": "execute_result"
    }
   ],
   "source": [
    "from sklearn.model_selection import RandomizedSearchCV\n",
    "\n",
    "for_reg_base = DecisionTreeClassifier(random_state = 0, n_jobs = -1) \n",
    "\n",
    "param_grid = { \n",
    "    'n_estimators': np.linspace(50, 500, 10, dtype = 'int64'),\n",
    "    'max_features' : [\"auto\", \"sqrt\", \"log2\"],\n",
    "    'max_depth' : np.linspace(2, 40, 20)\n",
    "}\n",
    "\n",
    "CV_for_reg_base = RandomizedSearchCV(estimator = for_reg_base, param_distributions = param_grid, n_jobs = -1, cv = 10, n_iter = 100)\n",
    "CV_for_reg_base.fit(training_features,training_labels)\n",
    "CV_for_reg_base.best_params_"
   ]
  },
  {
   "cell_type": "markdown",
   "metadata": {},
   "source": [
    "=> from RandomizedSearchCV, I get the most suitable parameters is: 'n_estimators' = 500, 'max_features' = 'log2', 'max_depth' = 34.0 (The parameters can be change after each run because I only choose 100 combinations (n_iner) out of 10 x 3 x 20 = 600 combinations)"
   ]
  },
  {
   "cell_type": "markdown",
   "metadata": {},
   "source": [
    "Build a new Random Forest Regression model with these parameters:"
   ]
  },
  {
   "cell_type": "code",
   "execution_count": 45,
   "metadata": {},
   "outputs": [
    {
     "data": {
      "text/plain": [
       "array([0.59204586, 0.56214892, 0.61104355, 0.58519407, 0.56635296,\n",
       "       0.5943817 , 0.61419776, 0.64828351, 0.64779136, 0.61956023])"
      ]
     },
     "execution_count": 45,
     "metadata": {},
     "output_type": "execute_result"
    }
   ],
   "source": [
    "for_reg2 = RandomForestRegressor(n_estimators = 500, max_features = \"log2\", max_depth = 34.0)\n",
    "for_reg2.fit(training_features,training_labels)\n",
    "scores7 = cross_val_score(for_reg2, training_features, training_labels, scoring = 'neg_mean_squared_error', cv = 10)\n",
    "np.sqrt(-scores7)"
   ]
  },
  {
   "cell_type": "code",
   "execution_count": 46,
   "metadata": {},
   "outputs": [
    {
     "data": {
      "text/plain": [
       "0.604099993501134"
      ]
     },
     "execution_count": 46,
     "metadata": {},
     "output_type": "execute_result"
    }
   ],
   "source": [
    "np.sqrt(-scores7).mean()"
   ]
  },
  {
   "cell_type": "code",
   "execution_count": 47,
   "metadata": {},
   "outputs": [
    {
     "data": {
      "text/plain": [
       "0.02834118638224339"
      ]
     },
     "execution_count": 47,
     "metadata": {},
     "output_type": "execute_result"
    }
   ],
   "source": [
    "np.sqrt(-scores7).std()"
   ]
  },
  {
   "cell_type": "markdown",
   "metadata": {},
   "source": [
    "=> After 10 fold cross validation, the new Random Forest Regression model has 10 rmse values with the Mean is 0.604 and the Standard deviation is 0.028"
   ]
  },
  {
   "cell_type": "markdown",
   "metadata": {},
   "source": [
    "=> Compare to the previous Random Forest Regression model, the new Random Forest Regression model has lower Rmse Mean value (0.604) than the previous one (0.615)"
   ]
  },
  {
   "cell_type": "markdown",
   "metadata": {},
   "source": [
    "Running both models on the test data:"
   ]
  },
  {
   "cell_type": "code",
   "execution_count": 48,
   "metadata": {},
   "outputs": [],
   "source": [
    "test_features = test_set.drop(['quality'], axis=1)\n",
    "test_labels = test_set['quality'].copy()"
   ]
  },
  {
   "cell_type": "markdown",
   "metadata": {},
   "source": [
    "The Linear Regression model: "
   ]
  },
  {
   "cell_type": "code",
   "execution_count": 49,
   "metadata": {},
   "outputs": [
    {
     "data": {
      "text/plain": [
       "0.7603416538268244"
      ]
     },
     "execution_count": 49,
     "metadata": {},
     "output_type": "execute_result"
    }
   ],
   "source": [
    "test_labels_predict1 = reg.predict(test_features)\n",
    "np.sqrt(mean_squared_error(test_labels, test_labels_predict1))"
   ]
  },
  {
   "cell_type": "markdown",
   "metadata": {},
   "source": [
    "=> The rmse of Linear Regression model on test data is 0.760"
   ]
  },
  {
   "cell_type": "markdown",
   "metadata": {},
   "source": [
    "The K nearest neighbour regression model with k = 5: "
   ]
  },
  {
   "cell_type": "code",
   "execution_count": 51,
   "metadata": {},
   "outputs": [
    {
     "data": {
      "text/plain": [
       "0.8265632166113203"
      ]
     },
     "execution_count": 51,
     "metadata": {},
     "output_type": "execute_result"
    }
   ],
   "source": [
    "test_labels_predict2 = neigh2.predict(test_features)\n",
    "np.sqrt(mean_squared_error(test_labels, test_labels_predict2))"
   ]
  },
  {
   "cell_type": "markdown",
   "metadata": {},
   "source": [
    "=> The rmse of K nearest neighbour regression model with k = 5 on test data is 0.827"
   ]
  },
  {
   "cell_type": "markdown",
   "metadata": {},
   "source": [
    "The Decision Tree model:"
   ]
  },
  {
   "cell_type": "code",
   "execution_count": 52,
   "metadata": {},
   "outputs": [
    {
     "data": {
      "text/plain": [
       "0.8635858907585855"
      ]
     },
     "execution_count": 52,
     "metadata": {},
     "output_type": "execute_result"
    }
   ],
   "source": [
    "test_labels_predict3 = dec.predict(test_features)\n",
    "np.sqrt(mean_squared_error(test_labels, test_labels_predict3))"
   ]
  },
  {
   "cell_type": "markdown",
   "metadata": {},
   "source": [
    "=> The rmse of Decision Tree model on test data is 0.864"
   ]
  },
  {
   "cell_type": "markdown",
   "metadata": {},
   "source": [
    "The Random Forest Regression model without Optimization:"
   ]
  },
  {
   "cell_type": "code",
   "execution_count": 53,
   "metadata": {},
   "outputs": [
    {
     "data": {
      "text/plain": [
       "0.6273707777917332"
      ]
     },
     "execution_count": 53,
     "metadata": {},
     "output_type": "execute_result"
    }
   ],
   "source": [
    "test_labels_predict4 = for_reg.predict(test_features)\n",
    "np.sqrt(mean_squared_error(test_labels, test_labels_predict4))"
   ]
  },
  {
   "cell_type": "markdown",
   "metadata": {},
   "source": [
    "=> The rmse of Random Forest Regression model without Optimization on test data is 0.627"
   ]
  },
  {
   "cell_type": "markdown",
   "metadata": {},
   "source": [
    "The Random Forest Regression model with Optimization:"
   ]
  },
  {
   "cell_type": "code",
   "execution_count": 54,
   "metadata": {},
   "outputs": [
    {
     "data": {
      "text/plain": [
       "0.6209351473236567"
      ]
     },
     "execution_count": 54,
     "metadata": {},
     "output_type": "execute_result"
    }
   ],
   "source": [
    "test_labels_predict5 = for_reg2.predict(test_features)\n",
    "np.sqrt(mean_squared_error(test_labels, test_labels_predict5))"
   ]
  },
  {
   "cell_type": "markdown",
   "metadata": {},
   "source": [
    "=> The rmse of Random Forest Regression model with Optimization on test data is 0.621"
   ]
  },
  {
   "cell_type": "markdown",
   "metadata": {},
   "source": [
    "Conclusion: the Random Forest Regression model with Optimization is the most suitable model for this data set."
   ]
  }
 ],
 "metadata": {
  "kernelspec": {
   "display_name": "Python 3",
   "language": "python",
   "name": "python3"
  },
  "language_info": {
   "codemirror_mode": {
    "name": "ipython",
    "version": 3
   },
   "file_extension": ".py",
   "mimetype": "text/x-python",
   "name": "python",
   "nbconvert_exporter": "python",
   "pygments_lexer": "ipython3",
   "version": "3.7.4"
  }
 },
 "nbformat": 4,
 "nbformat_minor": 2
}
